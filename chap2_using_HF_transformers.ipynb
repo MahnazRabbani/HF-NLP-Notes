{
 "cells": [
  {
   "cell_type": "code",
   "execution_count": null,
   "metadata": {},
   "outputs": [],
   "source": []
  }
 ],
 "metadata": {
  "kernelspec": {
   "display_name": "venv_HF-NLP-Notes",
   "language": "python",
   "name": "python3"
  },
  "language_info": {
   "name": "python",
   "version": "3.10.9 (main, Mar  8 2023, 04:44:36) [Clang 14.0.6 ]"
  },
  "orig_nbformat": 4,
  "vscode": {
   "interpreter": {
    "hash": "9e271ed26a3bb9b9590c7e20b926699e380aa6724b9334935ca4b4823a968782"
   }
  }
 },
 "nbformat": 4,
 "nbformat_minor": 2
}
